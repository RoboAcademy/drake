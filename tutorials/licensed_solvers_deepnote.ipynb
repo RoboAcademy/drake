{
 "cells": [
  {
   "cell_type": "markdown",
   "metadata": {},
   "source": [
    "# Deepnote에서 라이센스 솔버 활성화시키기 (Enabling licensed solvers on Deepnote)\n",
    "notebook 실행 방법은 [index](./index.ipynb)를 참조하자.\n"
   ]
  },
  {
   "cell_type": "code",
   "execution_count": null,
   "metadata": {},
   "outputs": [],
   "source": [
    "import os\n",
    "assert \"DEEPNOTE_PROJECT_ID\" in os.environ, \"This tutorial is meant to be run on Deepnote\""
   ]
  },
  {
   "cell_type": "markdown",
   "metadata": {},
   "source": [
    "Drake의 MathematicalProgram 인터페이스는 일부 상용 솔버를 지원하며, 이러한 솔버를 활성화하려면 사용자가 라이센스 파일을 제공해야 한다. 이 튜토리얼은 Deepnote에서 이 작업을 수행하는 방법에 대한 예시를 제공한다. 워크플로우를 단순화하면서도 실수로 라이센스 파일을 공유할 가능성을 최소화하는 것을 목표로 한다.\n",
    "\n",
    "활성화가 올바르게 작동하는지 확인하기 위해서 **이 notebook을 복제**, 라이센스 파일 업로드 및 코드 실행해보자."
   ]
  },
  {
   "cell_type": "markdown",
   "metadata": {},
   "source": [
    "## Mosek\n",
    "\n",
    "* Mosek 라이센스가 없다면 라이센스를 얻는 방법을 알아보자. 학생인 경우 [무료 개인 학생 라이센스](https://www.mosek.com/products/academic-licenses/)를 다운로드받을 수 있다. \n",
    "* 이 cell에서 여러분의 로컬 컴퓨터로부터 `mosek.lic` 파일을 업로드하도록 안내합니다.\n",
    "\n",
    "**주 의! 절대 라이센스 파일을 공개하지 마세요!**\n",
    "\n",
    "라이센스 파일 공유를 방지하기 위해 이 파일을 `/tmp/mosek.lic`으로 업로드하자. 매번 세션 종료 시 자동 삭제된다.\n",
    "\n",
    "참고: 업로드한 라이센스로 협력자와 활성 세션을 공유하고자 한다면, 상대방이 `/tmp` 폴더에서 파일을 복사하면 해당 라이센스를 얻을 수 있다."
   ]
  },
  {
   "cell_type": "code",
   "execution_count": null,
   "metadata": {},
   "outputs": [],
   "source": [
    "import os\n",
    "import os.path\n",
    "\n",
    "import ipywidgets as widgets  # Our use requires ipywidgets >= 7.5.0\n",
    "from IPython.display import display\n",
    "\n",
    "if \"MOSEKLM_LICENSE_FILE\" not in os.environ:\n",
    "    # If a mosek.lic file has already been uploaded, then simply use it here.\n",
    "    if os.path.exists('/tmp/mosek.lic'):\n",
    "        os.environ[\"MOSEKLM_LICENSE_FILE\"] = \"/tmp/mosek.lic\"\n",
    "    else:\n",
    "        uploader = widgets.FileUpload(accept='.lic', multiple=False)\n",
    "        display(uploader)"
   ]
  },
  {
   "cell_type": "code",
   "execution_count": null,
   "metadata": {},
   "outputs": [],
   "source": [
    "if \"MOSEKLM_LICENSE_FILE\" not in os.environ:\n",
    "    assert len(uploader.value.values()) > 0, \"Please upload a license file using the Upload widget above.\"\n",
    "    with open('/tmp/mosek.lic', 'wb') as output_file:\n",
    "        output_file.write(list(uploader.value.values())[-1]['content']) \n",
    "    os.environ[\"MOSEKLM_LICENSE_FILE\"] = \"/tmp/mosek.lic\""
   ]
  },
  {
   "cell_type": "markdown",
   "metadata": {},
   "source": [
    "Drake가 이제 Mosek을 사용할 수 있다고 판단한다.:"
   ]
  },
  {
   "cell_type": "code",
   "execution_count": null,
   "metadata": {},
   "outputs": [],
   "source": [
    "from pydrake.solvers import MosekSolver\n",
    "\n",
    "print(MosekSolver().enabled())"
   ]
  },
  {
   "cell_type": "markdown",
   "metadata": {},
   "source": [
    "이제 간단한 semidefinite program을 풀어보자. \n",
    "\n",
    "$$\\begin{aligned} \\min_S \\quad & \\text{Trace}(S) \\\\ \\text{subject to} \\quad & S_{1,0} = 1, \\\\ & S \\succeq 0. \\end{aligned}$$\n",
    "\n",
    "알고 있는 최적화 솔루션은  $ S = \\begin{bmatrix} 1 & 1 \\\\ 1 & 1\\end{bmatrix}.$"
   ]
  },
  {
   "cell_type": "code",
   "execution_count": null,
   "metadata": {},
   "outputs": [],
   "source": [
    "from pydrake.solvers import MathematicalProgram, MosekSolver\n",
    "\n",
    "prog = MathematicalProgram()\n",
    "S = prog.NewSymmetricContinuousVariables(2, \"S\")\n",
    "\n",
    "# S ≽ 0.\n",
    "prog.AddPositiveSemidefiniteConstraint(S)\n",
    "\n",
    "# S(1, 0) = 1\n",
    "prog.AddBoundingBoxConstraint(1, 1, S[1, 0])\n",
    "\n",
    "# min Trace(S)\n",
    "prog.AddLinearCost(S[0,0] + S[1,1])\n",
    "\n",
    "mosek = MosekSolver()\n",
    "result = mosek.Solve(prog)\n",
    "assert result.is_success()\n",
    "\n",
    "print(result.GetSolution(S))"
   ]
  },
  {
   "cell_type": "markdown",
   "metadata": {},
   "source": [
    "## Gurobi\n",
    "\n",
    "Drake 바이너리 배포판에는 아직 Gurobi 솔버가 포함되어 있지 않다. 개발팀은 추후 지원을 위해 노력하고 있으며, 관련 이슈 페이지 링크 : https://github.com/RobotLocomotion/drake/issues/10804"
   ]
  },
  {
   "cell_type": "markdown",
   "metadata": {},
   "source": [
    "## Clean up\n",
    "\n",
    "만일을 위해 이제 남은 임시 라이센스 파일을 모두 삭제하도록 하자."
   ]
  },
  {
   "cell_type": "code",
   "execution_count": null,
   "metadata": {},
   "outputs": [],
   "source": [
    "if os.path.exists('/tmp/mosek.lic'):\n",
    "    os.remove('/tmp/mosek.lic')"
   ]
  },
  {
   "cell_type": "code",
   "execution_count": null,
   "metadata": {},
   "outputs": [],
   "source": []
  }
 ],
 "metadata": {
  "interpreter": {
   "hash": "b0fa6594d8f4cbf19f97940f81e996739fb7646882a419484c72d19e05852a7e"
  },
  "kernelspec": {
   "display_name": "Python 3.9.12 64-bit",
   "language": "python",
   "name": "python3"
  },
  "language_info": {
   "codemirror_mode": {
    "name": "ipython",
    "version": 3
   },
   "file_extension": ".py",
   "mimetype": "text/x-python",
   "name": "python",
   "nbconvert_exporter": "python",
   "pygments_lexer": "ipython3",
   "version": "3.9.12"
  },
  "orig_nbformat": 2
 },
 "nbformat": 4,
 "nbformat_minor": 2
}

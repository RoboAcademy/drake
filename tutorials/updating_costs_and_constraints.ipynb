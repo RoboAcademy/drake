{
 "cells": [
  {
   "cell_type": "markdown",
   "metadata": {},
   "source": [
    "# MathematicalProgram에서 비용과 제약조건 업데이트하기(Updating costs and constraints in MathematicalProgram)\n",
    "notebook 실행 방법은 [index](./index.ipynb)를 참조하자.\n",
    "\n",
    "최적화 문제를 해결하고 나서 제약 조건과 비용을 약간 조정하여 업데이트된 문제를 다시 해결하고 싶은 경우가 자주 있다. 이러한 유형의 흔한 예시는 모델 예측 제어(MPC)이다. MPC에서는 각 시간 인스턴스에서 새로운 최적화 문제를 해결하는데, 이 문제의 제약 조건/비용은 이전 시간 인스턴스의 것과 약간만 다르다.\n",
    "\n",
    "새로운 `MathematicalProgram` 객체를 만드는 대신 이전 `MathematicalProgram` 객체에서 제약 조건/비용을 업데이트하고 업데이트된 문제를 해결할 수 있다. 이를 위해 많은 제약 조건/비용 객체는 \"update\" 함수를 제공하고 있다. 이 튜토리얼에서는 특정 유형의 제약 조건/비용을 업데이트하는 방법을 보여준다.\n",
    "\n",
    "## `LinearCost` 업데이트하기(Updating `LinearCost`)\n",
    "선형 비용 $a^Tx + b$의 경우, 선형 계수 `a` 벡터나 상수항 `b`를 업데이트하기 위해 [`LinearCost.UpdateCoefficients()`](https://drake.mit.edu/pydrake/pydrake.solvers.html#pydrake.solvers.LinearCost.UpdateCoefficients) 함수를 호출할 수 있다."
   ]
  },
  {
   "cell_type": "code",
   "execution_count": null,
   "metadata": {},
   "outputs": [],
   "source": [
    "from pydrake.solvers import MathematicalProgram, Solve\n",
    "import numpy as np\n",
    "\n",
    "prog = MathematicalProgram()\n",
    "x = prog.NewContinuousVariables(2)\n",
    "cost1 = prog.AddLinearCost(2*x[0] + 3 * x[1] + 2)\n",
    "print(f\"original cost: {cost1}\")\n",
    "prog.AddBoundingBoxConstraint(-1, 1, x)\n",
    "result = Solve(prog)\n",
    "print(f\"optimal solution: {result.GetSolution(x)}\")\n",
    "print(f\"original optimal cost: {result.get_optimal_cost()}\")\n",
    "\n",
    "# Now update the cost to 3x[0] - 4x[1] + 5\n",
    "cost1.evaluator().UpdateCoefficients(new_a=[3, -4], new_b=5)\n",
    "print(f\"updated cost: {cost1}\")\n",
    "# Solve the optimization problem again with the updated cost.\n",
    "result = Solve(prog)\n",
    "print(f\"updated optimal solution: {result.GetSolution(x)}\")\n",
    "print(f\"updated optimal cost: {result.get_optimal_cost()}\")"
   ]
  },
  {
   "cell_type": "markdown",
   "metadata": {},
   "source": [
    "## `QuadraticCost` 업데이트하기(Updating `QuadraticCost`)\n",
    "2차 비용 $0.5x^TQx + b'x + c$의 경우, [`QuadraticCost.UpdateCoefficients`](https://drake.mit.edu/pydrake/pydrake.solvers.html#pydrake.solvers.QuadraticCost.UpdateCoefficients) 함수를 호출하여 그의 $Q, b, c$ 항을 업데이트할 수 있다. "
   ]
  },
  {
   "cell_type": "code",
   "execution_count": null,
   "metadata": {},
   "outputs": [],
   "source": [
    "prog = MathematicalProgram()\n",
    "x = prog.NewContinuousVariables(2)\n",
    "cost1 = prog.AddQuadraticCost(x[0]**2 + 2 * x[1]**2 + x[0]*x[1] + 3*x[0] + 5)\n",
    "print(f\" original cost: {cost1}\")\n",
    "cost1.evaluator().UpdateCoefficients(new_Q=[[1., 2], [2., 4]], new_b=[1, 2.], new_c= 4)\n",
    "print(f\" updated cost: {cost1}\")"
   ]
  },
  {
   "cell_type": "markdown",
   "metadata": {},
   "source": [
    "## 제약에 대한 바운드 업데이트하기(Updating the bounds for any constraint)\n",
    "제약 조건 $lower \\le f(x) \\le upper$에 대해, 다음 함수를 사용하여 제약 조건의 경계를 업데이트할 수 있습니다:\n",
    "- [`Constraint.UpdateLowerBound(new_lb)`](https://drake.mit.edu/pydrake/pydrake.solvers.html#pydrake.solvers.LinearConstraint.UpdateLowerBound) : lower bound를 `new_lb`로 변경\n",
    "- [`Constraint.UpdateUpperBound(new_ub)`](https://drake.mit.edu/pydrake/pydrake.solvers.html#pydrake.solvers.LinearConstraint.UpdateUpperBound) : upper bound를 `new_ub`로 변경\n",
    "- [`Constraint.set_bounds(new_lb, new_ub)`](https://drake.mit.edu/pydrake/pydrake.solvers.html#pydrake.solvers.LinearConstraint.set_bounds) lower와 upper bounds 모두 변경"
   ]
  },
  {
   "cell_type": "code",
   "execution_count": null,
   "metadata": {},
   "outputs": [],
   "source": [
    "prog = MathematicalProgram()\n",
    "x = prog.NewContinuousVariables(2)\n",
    "constraint1 = prog.AddLinearConstraint(x[0] + 3 * x[1] <= 2)\n",
    "print(f\"original constraint: {constraint1}\")\n",
    "constraint1.evaluator().UpdateLowerBound([-1])\n",
    "print(f\"updated constraint: {constraint1}\")\n",
    "constraint1.evaluator().UpdateUpperBound([3])\n",
    "print(f\"updated constraint: {constraint1}\")\n",
    "constraint1.evaluator().set_bounds(new_lb=[-5], new_ub=[10])\n",
    "print(f\"updated constraint: {constraint1}\")"
   ]
  },
  {
   "cell_type": "markdown",
   "metadata": {},
   "source": [
    "## 선형 제약 계수와 바운드 업데이트(Update linear constraint coefficients and bounds)\n",
    "선형 제약 조건 $lower \\le Ax \\le upper$에 대해 [`LinearConstraint.UpdateCoefficients(new_A, new_lb, new_ub)`](https://drake.mit.edu/pydrake/pydrake.solvers.html#pydrake.solvers.LinearConstraint.UpdateCoefficients) 함수를 호출하여 제약 조건을 $new_{lb} \\le new_A* x\\le new_ub$로 업데이트할 수 있다.\n",
    "\n",
    "선형 등식 제약 조건 $Ax = b$에 대해 [`LinearEqualityConstraint.UpdateCoefficients(Aeq, beq)`](https://drake.mit.edu/pydrake/pydrake.solvers.html#pydrake.solvers.LinearEqualityConstraint.UpdateCoefficients) 함수를 호출하여 제약 조건을 $\\text{Aeq}*x=\\text{beq}$로 업데이트할 수 있다."
   ]
  },
  {
   "cell_type": "code",
   "execution_count": null,
   "metadata": {},
   "outputs": [],
   "source": [
    "prog = MathematicalProgram()\n",
    "x = prog.NewContinuousVariables(2)\n",
    "linear_constraint = prog.AddLinearConstraint(3 * x[0] + 4 * x[1] <= 5)\n",
    "linear_eq_constraint = prog.AddLinearConstraint(5 * x[0] + 2 * x[1] == 3)\n",
    "print(f\"original linear constraint: {linear_constraint}\")\n",
    "linear_constraint.evaluator().UpdateCoefficients(new_A = [[1, 3]], new_lb=[-2], new_ub=[3])\n",
    "print(f\"updated linear constraint: {linear_constraint}\")\n",
    "\n",
    "print(f\"original linear equality constraint: {linear_eq_constraint}\")\n",
    "linear_eq_constraint.evaluator().UpdateCoefficients(Aeq=[[3, 4]], beq=[2])\n",
    "print(f\"updated linear equality constraint: {linear_eq_constraint}\")"
   ]
  }
 ],
 "metadata": {
  "kernelspec": {
   "display_name": "Python 3",
   "language": "python",
   "name": "python3"
  },
  "language_info": {
   "codemirror_mode": {
    "name": "ipython",
    "version": 3
   },
   "file_extension": ".py",
   "mimetype": "text/x-python",
   "name": "python",
   "nbconvert_exporter": "python",
   "pygments_lexer": "ipython3",
   "version": "3.6.9"
  }
 },
 "nbformat": 4,
 "nbformat_minor": 2
}

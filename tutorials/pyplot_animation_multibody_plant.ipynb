{
 "cells": [
  {
   "cell_type": "markdown",
   "metadata": {},
   "source": [
    "# MultibodyPlant로 PyPlot Animation 튜터리얼(PyPlot Animation with MultibodyPlant Tutorial)\n",
    "notebook 실행 방법은 [index](./index.ipynb)를 참조하자.\n"
   ]
  },
  {
   "cell_type": "markdown",
   "metadata": {},
   "source": [
    "## matplotlib 백엔드 선택하기(Selecting matplotlib Backends)\n",
    "\n",
    "Jupyter notebook은 다양한 백엔드를 선택할 수 있는 `%matplotlib` 를 제공합니다:\n",
    "https://ipython.readthedocs.io/en/stable/interactive/magics.html#magic-matplotlib\n",
    "\n",
    "일반적으로 선택할 수 있는 backends는 비대화적인 방식 (`inline`)과 대화적인 방식 (`notebook`, `tk`) 두 가지 종류가 있다. 이 notebook에서는 몇 가지 옵션을 보여드리며 주석 해제/설정을 통해 직접 시험해볼 수 있다.\n",
    "\n",
    "**주의: Deepnote와 Google Colab는 `inline` backend만 사용하는 것을 권장한다.**\n",
    "\n",
    "먼저, 사용 가능한 옵션을 살펴보겠다. 일부 백엔드는 필요한 의존성이 모두 설치되어 있지 않아 작동하지 않을 수 있다."
   ]
  },
  {
   "cell_type": "code",
   "execution_count": null,
   "metadata": {},
   "outputs": [],
   "source": [
    "%matplotlib --list"
   ]
  },
  {
   "cell_type": "markdown",
   "metadata": {},
   "source": [
    "이제 backends 중에 하나를 선택하자. 아래 옵션은 대부분의 시스템에서 실행 가능할 확률이 높다.\n",
    "\n",
    "커널 세션 중 백엔드는 한 번만 변경할 수 있다. 백엔드를 다시 변경하려면 세션을 재시작해야 한다."
   ]
  },
  {
   "cell_type": "code",
   "execution_count": null,
   "metadata": {},
   "outputs": [],
   "source": [
    "# This is non-interactive: it shows static plots inline\n",
    "%matplotlib inline\n",
    "\n",
    "# This is interactive: it shows dynamic plots in the notebook\n",
    "# %matplotlib notebook\n",
    "\n",
    "# This is interactive: it shows dynamic plots in separate GUI windows\n",
    "# %matplotlib tk"
   ]
  },
  {
   "cell_type": "markdown",
   "metadata": {},
   "source": [
    "## Imports"
   ]
  },
  {
   "cell_type": "code",
   "execution_count": null,
   "metadata": {},
   "outputs": [],
   "source": [
    "from IPython.display import HTML\n",
    "from matplotlib import animation\n",
    "import numpy as np"
   ]
  },
  {
   "cell_type": "code",
   "execution_count": null,
   "metadata": {},
   "outputs": [],
   "source": [
    "from pydrake.multibody.parsing import Parser\n",
    "from pydrake.multibody.plant import AddMultibodyPlantSceneGraph\n",
    "from pydrake.systems.analysis import Simulator\n",
    "from pydrake.systems.framework import DiagramBuilder\n",
    "from pydrake.systems.planar_scenegraph_visualizer import (\n",
    "    ConnectPlanarSceneGraphVisualizer)"
   ]
  },
  {
   "cell_type": "markdown",
   "metadata": {},
   "source": [
    "## Pendulum 정의 예제(Define Pendulum Example)\n",
    "\n",
    "This function is consolidated from `run_planar_scenegraph_visualizer.py`."
   ]
  },
  {
   "cell_type": "code",
   "execution_count": null,
   "metadata": {},
   "outputs": [],
   "source": [
    "def run_pendulum_example(duration=1., playback=True, show=True):\n",
    "    \"\"\"\n",
    "    Runs a simulation of a pendulum.\n",
    "\n",
    "    Arguments:\n",
    "        duration: Simulation duration (sec).\n",
    "        playback: Enable pyplot animations to be produced.\n",
    "    \"\"\"\n",
    "    builder = DiagramBuilder()\n",
    "    plant, scene_graph = AddMultibodyPlantSceneGraph(builder, 0.)\n",
    "    parser = Parser(plant)\n",
    "    parser.AddModels(\n",
    "        url=\"package://drake/examples/pendulum/Pendulum.urdf\")\n",
    "    plant.Finalize()\n",
    "\n",
    "    T_VW = np.array([[1., 0., 0., 0.],\n",
    "                     [0., 0., 1., 0.],\n",
    "                     [0., 0., 0., 1.]])\n",
    "    visualizer = ConnectPlanarSceneGraphVisualizer(\n",
    "        builder, scene_graph, T_VW=T_VW, xlim=[-1.2, 1.2],\n",
    "        ylim=[-1.2, 1.2], show=show)\n",
    "    if playback:\n",
    "        visualizer.start_recording()\n",
    "\n",
    "    diagram = builder.Build()\n",
    "    simulator = Simulator(diagram)\n",
    "    simulator.Initialize()\n",
    "    simulator.set_target_realtime_rate(1.)\n",
    "\n",
    "    # Fix the input port to zero.\n",
    "    plant_context = diagram.GetMutableSubsystemContext(\n",
    "        plant, simulator.get_mutable_context())\n",
    "    plant.get_actuation_input_port().FixValue(\n",
    "        plant_context, np.zeros(plant.num_actuators()))\n",
    "    plant_context.SetContinuousState([0.5, 0.1])\n",
    "    simulator.AdvanceTo(duration)\n",
    "\n",
    "    if playback:\n",
    "        visualizer.stop_recording()\n",
    "        ani = visualizer.get_recording_as_animation()\n",
    "        return ani\n",
    "    else:\n",
    "        return None"
   ]
  },
  {
   "cell_type": "markdown",
   "metadata": {},
   "source": [
    "## Run without Playback\n",
    "비대화형 백엔드를 사용하는 경우 애니메이션을 볼 수 없다. 또한 GUI 백엔드를 사용하지 않는다는 경고 메시지도 표시된다.\n",
    "\n",
    "대화형 백엔드를 사용하는 경우 실시간으로 시뮬레이션 애니메이션을 볼 수 있다.\n",
    "\n",
    "GUI 옵션을 선택하면 아래 cell을 실행할때마다 새로운 별도 창이 열리게 된다."
   ]
  },
  {
   "cell_type": "code",
   "execution_count": null,
   "metadata": {},
   "outputs": [],
   "source": [
    "run_pendulum_example(playback=False)"
   ]
  },
  {
   "cell_type": "markdown",
   "metadata": {},
   "source": [
    "## Run with Playback\n",
    "\n",
    "비대화형 백엔드를 사용한다면 최초 실행 시에는 애니메이션이 표시되지 않습니다.\n",
    "\n",
    "대화형 백엔드를 사용하면 첫번째 출력에서 시뮬레이션이 진행됨과 동시에 애니메이션을 볼 수 있다. 추가로 시뮬레이션이 끝나면 직접적인 애니메이션 시각화는 처음부터 다시 재생된다."
   ]
  },
  {
   "cell_type": "code",
   "execution_count": null,
   "metadata": {},
   "outputs": [],
   "source": [
    "ani = run_pendulum_example(playback=True)"
   ]
  },
  {
   "cell_type": "markdown",
   "metadata": {},
   "source": [
    "녹화된 플레이백이 있다면 이제 백엔드와 상관없이 다음과 같은 방법으로 애니메이션을 만들 수 있다.:\n",
    "* 자바스크립트 HTML 위젯: 조금 더 세밀한 제어 기능을 제공한다.\n",
    "* HTML5 비디오: ffmpeg가 필요하며, 이는 Drake 기본 의존성에 포함되어 있지 않아 설치되지 않는다."
   ]
  },
  {
   "cell_type": "code",
   "execution_count": null,
   "metadata": {},
   "outputs": [],
   "source": [
    "HTML(ani.to_jshtml())"
   ]
  },
  {
   "cell_type": "code",
   "execution_count": null,
   "metadata": {},
   "outputs": [],
   "source": [
    "if animation.writers.is_available(\"ffmpeg\"):\n",
    "    display(HTML(ani.to_html5_video()))"
   ]
  },
  {
   "cell_type": "markdown",
   "metadata": {},
   "source": [
    "이미지는 렌더링하지 않고 애니메이션만 표시하고 싶다면 `PlanarSceneGraphVisualizer()` 생성자에 show=False 인자를 넘겨준다."
   ]
  },
  {
   "cell_type": "code",
   "execution_count": null,
   "metadata": {},
   "outputs": [],
   "source": [
    "ani = run_pendulum_example(playback=True, show=False)\n",
    "HTML(ani.to_jshtml())"
   ]
  }
 ],
 "metadata": {
  "kernelspec": {
   "display_name": "Python 3",
   "language": "python",
   "name": "python3"
  },
  "language_info": {
   "codemirror_mode": {
    "name": "ipython",
    "version": 3
   },
   "file_extension": ".py",
   "mimetype": "text/x-python",
   "name": "python",
   "nbconvert_exporter": "python",
   "pygments_lexer": "ipython3",
   "version": "3.6.9"
  }
 },
 "nbformat": 4,
 "nbformat_minor": 2
}
